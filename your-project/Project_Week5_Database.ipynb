{
 "cells": [
  {
   "cell_type": "code",
   "execution_count": 1,
   "metadata": {},
   "outputs": [],
   "source": [
    "from sqlalchemy import create_engine\n",
    "import pymysql\n",
    "import pandas as pd\n",
    "import numpy as np"
   ]
  },
  {
   "cell_type": "code",
   "execution_count": 13,
   "metadata": {},
   "outputs": [],
   "source": [
    "driver = \"mysql+pymysql:\"\n",
    "user = \"root\"\n",
    "password = \"***********\"\n",
    "ip = \"localhost\"\n",
    "database = \"Prject_4\""
   ]
  },
  {
   "cell_type": "code",
   "execution_count": 14,
   "metadata": {},
   "outputs": [],
   "source": [
    "connection_string = f\"{driver}//{user}:{password}@{ip}/{database}\"\n",
    "engine = create_engine(connection_string)"
   ]
  },
  {
   "cell_type": "code",
   "execution_count": 21,
   "metadata": {},
   "outputs": [],
   "source": [
    "db = pd.read_csv(\"../data/data_db.csv\", index_col = 0)"
   ]
  },
  {
   "cell_type": "code",
   "execution_count": 22,
   "metadata": {},
   "outputs": [],
   "source": [
    "del db[\"month\"]\n",
    "del db[\"day\"]\n",
    "del db[\"time\"]\n",
    "del db[\"hour\"]"
   ]
  },
  {
   "cell_type": "code",
   "execution_count": 17,
   "metadata": {},
   "outputs": [
    {
     "data": {
      "text/html": [
       "<div>\n",
       "<style scoped>\n",
       "    .dataframe tbody tr th:only-of-type {\n",
       "        vertical-align: middle;\n",
       "    }\n",
       "\n",
       "    .dataframe tbody tr th {\n",
       "        vertical-align: top;\n",
       "    }\n",
       "\n",
       "    .dataframe thead th {\n",
       "        text-align: right;\n",
       "    }\n",
       "</style>\n",
       "<table border=\"1\" class=\"dataframe\">\n",
       "  <thead>\n",
       "    <tr style=\"text-align: right;\">\n",
       "      <th></th>\n",
       "      <th>accuracy</th>\n",
       "      <th>latitude</th>\n",
       "      <th>longitude</th>\n",
       "      <th>date</th>\n",
       "      <th>main_activity</th>\n",
       "      <th>weekday_weekend</th>\n",
       "      <th>morning_afternoon</th>\n",
       "      <th>total_time</th>\n",
       "    </tr>\n",
       "  </thead>\n",
       "  <tbody>\n",
       "    <tr>\n",
       "      <th>0</th>\n",
       "      <td>13</td>\n",
       "      <td>41.550241</td>\n",
       "      <td>2.115207</td>\n",
       "      <td>2019-05-15 05:39:28</td>\n",
       "      <td>IN_VEHICLE</td>\n",
       "      <td>weekday</td>\n",
       "      <td>am</td>\n",
       "      <td>17.0</td>\n",
       "    </tr>\n",
       "    <tr>\n",
       "      <th>1</th>\n",
       "      <td>3</td>\n",
       "      <td>41.511503</td>\n",
       "      <td>2.102535</td>\n",
       "      <td>2019-05-15 05:56:51</td>\n",
       "      <td>IN_VEHICLE</td>\n",
       "      <td>weekday</td>\n",
       "      <td>am</td>\n",
       "      <td>3.0</td>\n",
       "    </tr>\n",
       "    <tr>\n",
       "      <th>2</th>\n",
       "      <td>3</td>\n",
       "      <td>41.500047</td>\n",
       "      <td>2.145885</td>\n",
       "      <td>2019-05-15 06:00:09</td>\n",
       "      <td>IN_VEHICLE</td>\n",
       "      <td>weekday</td>\n",
       "      <td>am</td>\n",
       "      <td>40.0</td>\n",
       "    </tr>\n",
       "    <tr>\n",
       "      <th>3</th>\n",
       "      <td>200</td>\n",
       "      <td>41.397261</td>\n",
       "      <td>2.185404</td>\n",
       "      <td>2019-05-15 06:40:26</td>\n",
       "      <td>IN_VEHICLE</td>\n",
       "      <td>weekday</td>\n",
       "      <td>am</td>\n",
       "      <td>0.0</td>\n",
       "    </tr>\n",
       "    <tr>\n",
       "      <th>4</th>\n",
       "      <td>14</td>\n",
       "      <td>41.390674</td>\n",
       "      <td>2.166036</td>\n",
       "      <td>2019-05-15 13:21:39</td>\n",
       "      <td>IN_VEHICLE</td>\n",
       "      <td>weekday</td>\n",
       "      <td>pm</td>\n",
       "      <td>11.0</td>\n",
       "    </tr>\n",
       "  </tbody>\n",
       "</table>\n",
       "</div>"
      ],
      "text/plain": [
       "   accuracy   latitude  longitude                 date main_activity  \\\n",
       "0        13  41.550241   2.115207  2019-05-15 05:39:28    IN_VEHICLE   \n",
       "1         3  41.511503   2.102535  2019-05-15 05:56:51    IN_VEHICLE   \n",
       "2         3  41.500047   2.145885  2019-05-15 06:00:09    IN_VEHICLE   \n",
       "3       200  41.397261   2.185404  2019-05-15 06:40:26    IN_VEHICLE   \n",
       "4        14  41.390674   2.166036  2019-05-15 13:21:39    IN_VEHICLE   \n",
       "\n",
       "  weekday_weekend morning_afternoon  total_time  \n",
       "0         weekday                am        17.0  \n",
       "1         weekday                am         3.0  \n",
       "2         weekday                am        40.0  \n",
       "3         weekday                am         0.0  \n",
       "4         weekday                pm        11.0  "
      ]
     },
     "execution_count": 17,
     "metadata": {},
     "output_type": "execute_result"
    }
   ],
   "source": [
    "db.head()"
   ]
  },
  {
   "cell_type": "code",
   "execution_count": 25,
   "metadata": {},
   "outputs": [],
   "source": [
    "db.to_sql('vehicle_clean', con = engine, if_exists=\"append\", index=False)"
   ]
  }
 ],
 "metadata": {
  "kernelspec": {
   "display_name": "Python 3",
   "language": "python",
   "name": "python3"
  },
  "language_info": {
   "codemirror_mode": {
    "name": "ipython",
    "version": 3
   },
   "file_extension": ".py",
   "mimetype": "text/x-python",
   "name": "python",
   "nbconvert_exporter": "python",
   "pygments_lexer": "ipython3",
   "version": "3.6.7"
  }
 },
 "nbformat": 4,
 "nbformat_minor": 2
}
