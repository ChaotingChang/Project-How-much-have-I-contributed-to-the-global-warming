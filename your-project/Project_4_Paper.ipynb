{
 "cells": [
  {
   "cell_type": "markdown",
   "metadata": {},
   "source": [
    "# How much have I contributed to the global warming?"
   ]
  },
  {
   "cell_type": "markdown",
   "metadata": {},
   "source": [
    "## 1. Introduction"
   ]
  },
  {
   "cell_type": "markdown",
   "metadata": {},
   "source": [
    "With the extreme weather events occure more often, and the obviously global warming, to raise people's awareness to this urgent issue is needed more than ever. But how? In this project, I want to analyse my carbon footprint, which is the total amount of CO<sub>2</sub> produced by an individual during his activities, during the last two months. Besides, I also want to compare the difference of carbon footprint between using my car and take the public transportation."
   ]
  },
  {
   "cell_type": "markdown",
   "metadata": {},
   "source": [
    "## 2. Questions"
   ]
  },
  {
   "cell_type": "markdown",
   "metadata": {},
   "source": [
    "To answer the questions of my title, I need to first answer followed questions:  \n",
    "\n",
    "1. How long is my commute time from home to office/ironhack during the last two months?\n",
    "2. Does this commute time differ between month and day hour (morning or afternoon)?\n",
    "3. How much CO<sub>2</sub> and NO<sub>x</sub> have I emitted?\n",
    "4. How much is the CO<sub>2</sub> emission if I take train?\n"
   ]
  },
  {
   "cell_type": "markdown",
   "metadata": {},
   "source": [
    "##  3. Hypothesis for the question 2"
   ]
  },
  {
   "cell_type": "markdown",
   "metadata": {},
   "source": [
    "The Null hypothesis for the question 2 is that there is no difference of commute time between month or day hour.\n",
    "Alternative hypothesis is that there is a difference of commute time between month and day hour."
   ]
  },
  {
   "cell_type": "markdown",
   "metadata": {},
   "source": [
    "## 4. Materials and methods"
   ]
  },
  {
   "cell_type": "markdown",
   "metadata": {},
   "source": [
    "The data I used is downloaded from the google map my timeline, where it registered my locations, activities and movements from 2016. The data provided by google is in json type, which means that the data is a nested, nested, nested*n format. In each item of json (see 1.2.1 section of the Project_4_main.ipynb), google provides the timestamp, coordinate, altitude, accuracy, heading, velocity and the activity. Inside the activity item, there are several nested data showing different activities that google assume you are doing with different confidence, ordered by the confidence degree. For the purpose of this project, I only want to look at the data from May 2019, when I started to commute to Barcelona by car instead by train (see 1.2.3 section of the Project_4_main.ipynb).  \n",
    "\n",
    "In this project, I only extract the first activity, which is the activity with the highest confidence. I decided to use regular expression to find and retrieve the first pattern. (see the 1.2.7 section of the Project_4_main.ipynb)  \n",
    "\n",
    "As I mentioned before, google registered all my activity, to calculate my commute time, I only select activities which is \"in vehicle\". The next challenge is that, google registered my activity almost every 2 minutes, I have too much data with the same activity but different timestamp. To overcome this problem, I created two columns to indicate the departure and arrival timestamps and only used this timestamps to calculate the commute time (1.2.8 section of the main.ipynb)\n",
    "\n",
    "After obtain the total commute time, I can calculate the total CO<sub>2</sub> and NO<sub>x</sub> using this formula <sup>(1,2,3)</sup> ![CurveTable](../images/vehicle-emission-curve-table.png) \n",
    "\n",
    "To test the hypothesis, whether the commute time is differ between month and day hour, I performed a two-way ANOVA using R.\n",
    "\n"
   ]
  },
  {
   "cell_type": "markdown",
   "metadata": {},
   "source": [
    "## 5. Results"
   ]
  },
  {
   "cell_type": "markdown",
   "metadata": {},
   "source": [
    "According to the data, there are total 48 working day from 15th May to 22nd of July. The average distance per commute is 23km, therefore the total travelling distance is:  \n",
    "\n",
    "Total travelling distance = 48 (working days) * 23 (km) * 2 (times/day) = 2208 km  \n",
    "\n",
    "And the average commute time is 58 mins.  \n",
    "\n",
    "![commute time](../images/month_totalTime.png) \n",
    "\n",
    "\n",
    "If I calculate the daily NO<sub>x</sub> emission using the distance/commute time, I can obtain the total NO<sub>x</sub> emission, which is around 61 kg. and the total CO<sub>2</sub> emission = 214.176 kg  \n",
    "\n",
    "The distance from Sabadell center to Barcelona Arc de Triomf is also 23km, in the other word, the total CO<sub>2</sub> emission by train is 61.824 kg.\n"
   ]
  },
  {
   "cell_type": "markdown",
   "metadata": {},
   "source": [
    "**Heatmap**\n",
    "\n",
    "![heatmap](../images/output_ziENQC.gif) "
   ]
  },
  {
   "cell_type": "markdown",
   "metadata": {},
   "source": [
    "Based on the two-way ANOVA test, there is no difference of commute time between months (P = 0.28), but there is a different of commute time between morning and afternoon (P = 0.04). "
   ]
  },
  {
   "cell_type": "markdown",
   "metadata": {},
   "source": [
    "What about the average CO<sub>2</sub> emission by the other car? Based on the EU standard, the average CO<sub>2</sub> is 120 g/km, convert with my travelling distance, the total CO<sub>2</sub> is 265 Kg. According to the cityhall of Barcelona, there are 962.111 vehicles regisetered in Barcelona<sup>(4)</sup>, around 15.65% of them are \"coche limpio\" (hybrid and electric cars)<sup>(5)</sup>. Assuming that only 30% of these cars (after substrated the coche limpio) are used for 1 km per day, there is almost 30000 kg CO<sub>2</sub> released to our atmosphere!"
   ]
  },
  {
   "cell_type": "markdown",
   "metadata": {},
   "source": [
    "And finally, to compensate my CO<sub>2</sub> emission in the past two months, I need 10 trees in one year<sup>(6)</sup> to absorb all the CO<sub>2</sub> I emitted."
   ]
  },
  {
   "cell_type": "markdown",
   "metadata": {},
   "source": [
    "# 6. Conclusions"
   ]
  },
  {
   "cell_type": "markdown",
   "metadata": {},
   "source": [
    "I am contributing so much to the global warming!!! Well, positive side, at least we always come two persons in the car, which shares the CO<sub>2</sub> emission. "
   ]
  },
  {
   "cell_type": "markdown",
   "metadata": {},
   "source": [
    "# 7. Reference\n",
    "1. https://assets.publishing.service.gov.uk/government/uploads/system/uploads/attachment_data/file/4556/aeat-updated-vehicle-emission-curves.pdf\n",
    "2. http://www.goikoauto.com/descargas/emisionesco2/cartelcosmart.pdf  \n",
    "3. https://www.delijn.be/en/overdelijn/organisatie/zorgzaam-ondernemen/milieu/co2-uitstoot-voertuigen.html  \n",
    "4. https://www.bcn.cat/estadistica/castella/dades/economia/vehicles/a2017/tipo/t01.htm\n",
    "5. https://elpais.com/economia/2018/02/28/actualidad/1519813924_307149.html\n",
    "6. http://urbanforestrynetwork.org/benefits/air%20quality.htm"
   ]
  },
  {
   "cell_type": "markdown",
   "metadata": {},
   "source": []
  }
 ],
 "metadata": {
  "kernelspec": {
   "display_name": "Python 3",
   "language": "python",
   "name": "python3"
  },
  "language_info": {
   "codemirror_mode": {
    "name": "ipython",
    "version": 3
   },
   "file_extension": ".py",
   "mimetype": "text/x-python",
   "name": "python",
   "nbconvert_exporter": "python",
   "pygments_lexer": "ipython3",
   "version": "3.6.7"
  }
 },
 "nbformat": 4,
 "nbformat_minor": 2
}
